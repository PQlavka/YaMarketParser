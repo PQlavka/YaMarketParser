{
  "nbformat": 4,
  "nbformat_minor": 0,
  "metadata": {
    "colab": {
      "name": "YaM_Counter.ipynb",
      "provenance": [],
      "collapsed_sections": [],
      "authorship_tag": "ABX9TyMRT1VrxVmVwPHXMI7Lxq5S",
      "include_colab_link": true
    },
    "kernelspec": {
      "name": "python3",
      "display_name": "Python 3"
    }
  },
  "cells": [
    {
      "cell_type": "markdown",
      "metadata": {
        "id": "view-in-github",
        "colab_type": "text"
      },
      "source": [
        "<a href=\"https://colab.research.google.com/github/PQlavka/YaMarketParser/blob/main/YaM_Counter.ipynb\" target=\"_parent\"><img src=\"https://colab.research.google.com/assets/colab-badge.svg\" alt=\"Open In Colab\"/></a>"
      ]
    },
    {
      "cell_type": "markdown",
      "metadata": {
        "id": "f-RD4NI6SWVw"
      },
      "source": [
        "Виктор Остапюк\n"
      ]
    },
    {
      "cell_type": "code",
      "metadata": {
        "id": "AjygEu-0GyTc"
      },
      "source": [
        "import requests\n",
        "from bs4 import BeautifulSoup\n",
        "from itertools import groupby\n",
        "\n",
        "def load_user_data(page, session):\n",
        "  # тут можно поменять фильтры\n",
        "  url = '%s&onstock=0&offer-shipping=pickup&delivery-interval=5&page=%d&local-offers-first=1' % (main_link, page)\n",
        "  request = session.get(url)\n",
        "  #print(url)\n",
        "  return request.text\n",
        "\n",
        "def contain_needed_obj(text):\n",
        "  soup = BeautifulSoup(text)\n",
        "  obj_list = soup.find('article', {'data-autotest-id': 'product-snippet'})\n",
        "  return obj_list is not None\n",
        "\n",
        "def not_end_of_list(text):\n",
        "  soup = BeautifulSoup(text)\n",
        "  endol = soup.find('a', {'aria-label': 'Следующая страница'})\n",
        "  return endol is not None\n",
        "\n",
        "def other_regions_span(text):\n",
        "  soup = BeautifulSoup(text)\n",
        "  span = soup.find('span', {'class': '_3J6m98nXNU'})\n",
        "  return span is not None\n",
        "\n",
        "def load_objects_names(dict, data):\n",
        "  for obj in data:\n",
        "    dict.append(obj.find('span', {'data-tid' : 'ce80a508'}).contents[0])\n"
      ],
      "execution_count": null,
      "outputs": []
    },
    {
      "cell_type": "markdown",
      "metadata": {
        "id": "tpPcaeqMO_my"
      },
      "source": [
        "## **Парсер для Я.Маркет**\n",
        "* `unique` - `list[string]` - список уникальных элементов\n",
        "* `doubled` - `list[int]` - список индексов повторяющихся значений\n",
        "* `obj_dict` - `list[string]` - список всех элементов\n",
        "* `total` - `int` - общее кол-во элементов \n",
        "\n",
        "### Как использовать\n",
        "значение `main_link` заменить на свое (ссылка на каталог Я.Маркета должна оканчиваться атрибутом lr (lr=50))\n",
        "\n",
        "Cкопировать из браузера (\"Сеть\" в \"Инструментах разработчика\", самый продолжительный запрос -> заголовки запроса) значения User-Agent и Cookie в `s.headers.update(...)`\n",
        "\n",
        "Запустить всё по порядку (далее запускать только обновление `main_link` и применение парсера)\n",
        "\n",
        "Для выгрузки в excel использовать последний блок\n",
        "\n",
        "**Внимание!**\n",
        "\n",
        "Запросы рекомендую выполнять несколько раз (от 3). Парсер может дать осечку и выдать меньший результат, чем есть на деле (например: 120 вместо 670). Стоит работать с наибольшим результатом из 3-ех попыток. Причина в капче :(\n"
      ]
    },
    {
      "cell_type": "code",
      "metadata": {
        "id": "Qdz9ezcJiYSB"
      },
      "source": [
        "main_link = 'https://market.yandex.ru/catalog--mobilnye-telefony-v-permi/54726/list?hid=91491&lr=50'"
      ],
      "execution_count": null,
      "outputs": []
    },
    {
      "cell_type": "code",
      "metadata": {
        "id": "u4Tn0xRBQjCX"
      },
      "source": [
        "s = requests.Session() "
      ],
      "execution_count": null,
      "outputs": []
    },
    {
      "cell_type": "code",
      "metadata": {
        "id": "XR5Hx0kCQlMV"
      },
      "source": [
        "# \"Сеть\" в \"Инструментах разработчика\", самый продолжительный запрос -> заголовки запроса\n",
        "s.headers.update({\n",
        "        'User-Agent': '',\n",
        "        'Cookie': ''\n",
        "    })"
      ],
      "execution_count": null,
      "outputs": []
    },
    {
      "cell_type": "code",
      "metadata": {
        "id": "syJQoWucje1E",
        "outputId": "14ff8c6f-cb1c-45bd-9eb7-ead34ad2aeb3",
        "colab": {
          "base_uri": "https://localhost:8080/",
          "height": 67
        }
      },
      "source": [
        "# применение парсера\n",
        "obj_dict = [] # конечный результат в виде массива\n",
        "page = 1\n",
        "total = 0\n",
        "while True:\n",
        "  data = load_user_data(page, s)\n",
        "  if (contain_needed_obj(data) and not_end_of_list(data)):\n",
        "    soup = BeautifulSoup(data)\n",
        "    if other_regions_span(data):\n",
        "      span = soup.find('span', {'class': '_3J6m98nXNU'})\n",
        "      obj_list = span.find_all_previous('article', {'data-autotest-id': 'product-snippet'})\n",
        "      load_objects_names(obj_dict, obj_list)\n",
        "      total+=len(obj_list) \n",
        "      break\n",
        "  else:\n",
        "    obj_list = soup.find_all('article', {'data-autotest-id': 'product-snippet'})\n",
        "    load_objects_names(obj_dict, obj_list)\n",
        "    page+=1 \n",
        "    total+=len(obj_list) \n",
        "  else:\n",
        "    break\n",
        "\n",
        "doubled = [i for i, x in enumerate(obj_dict) if obj_dict.count(x) > 1] # повторяющиеся элементы\n",
        "unique = list(dict.fromkeys(obj_dict)) # уникальные элементы\n",
        "\n",
        "print(\"total: \", total)\n",
        "print(\"doubled: \", len(doubled))\n",
        "print(\"unique: \", len(unique))\n",
        "\n"
      ],
      "execution_count": null,
      "outputs": [
        {
          "output_type": "stream",
          "text": [
            "total:  475\n",
            "doubled:  112\n",
            "unique:  411\n"
          ],
          "name": "stdout"
        }
      ]
    },
    {
      "cell_type": "markdown",
      "metadata": {
        "id": "Artaw9zGO1aP"
      },
      "source": [
        "## **Выгрузка списка уникальных элементов в excel**"
      ]
    },
    {
      "cell_type": "code",
      "metadata": {
        "id": "f4IL9ZCBKAmY"
      },
      "source": [
        "\n",
        "unique_sorted = sorted(unique)\n",
        "\n",
        "import pandas as pd\n",
        "\n",
        "df = pd.DataFrame() \n",
        "df['Name - YaM'] = unique_sorted[0::1] \n",
        "  \n",
        "# Converting to excel \n",
        "df.to_excel('result.xlsx', index = False) "
      ],
      "execution_count": null,
      "outputs": []
    }
  ]
}